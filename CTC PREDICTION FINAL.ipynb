{
 "cells": [
  {
   "cell_type": "code",
   "execution_count": 52,
   "id": "8bfa2a9f",
   "metadata": {},
   "outputs": [],
   "source": [
    "#  pandas is used for data manipulation and working with data frames.\n",
    "# numpy (np) handles numerical operations, particularly with arrays.\n",
    "# matplotlib.pyplot (plt) is used for creating basic visualizations like plots and charts, \n",
    "# while seaborn (sns) provides more advanced and visually appealing statistical graphics\n",
    "import pandas as pd\n",
    "import numpy as np\n",
    "import matplotlib.pyplot as plt\n",
    "import seaborn as sns"
   ]
  },
  {
   "cell_type": "code",
   "execution_count": 53,
   "id": "01d1a369",
   "metadata": {},
   "outputs": [],
   "source": [
    "# This code reads three CSV files containing data for colleges, cities, and employees,\n",
    "# and stores them in separate pandas DataFrames: college_data, cities_data, and employee_data.\n",
    "    \n",
    "college_data = pd.read_csv('C:/Users/priya/Downloads/ML PROJECT/Colleges - Colleges.csv',header=0)\n",
    "cities_data = pd.read_csv('C:/Users/priya/Downloads/ML PROJECT/cities - cities.csv',header=0)\n",
    "employee_data = pd.read_csv('C:/Users/priya/Downloads/ML PROJECT/ML case Study - ML case Study.csv',header=0)"
   ]
  },
  {
   "cell_type": "code",
   "execution_count": 54,
   "id": "6da64ac8",
   "metadata": {},
   "outputs": [
    {
     "data": {
      "text/html": [
       "<div>\n",
       "<style scoped>\n",
       "    .dataframe tbody tr th:only-of-type {\n",
       "        vertical-align: middle;\n",
       "    }\n",
       "\n",
       "    .dataframe tbody tr th {\n",
       "        vertical-align: top;\n",
       "    }\n",
       "\n",
       "    .dataframe thead th {\n",
       "        text-align: right;\n",
       "    }\n",
       "</style>\n",
       "<table border=\"1\" class=\"dataframe\">\n",
       "  <thead>\n",
       "    <tr style=\"text-align: right;\">\n",
       "      <th></th>\n",
       "      <th>Tier 1</th>\n",
       "      <th>Tier 2</th>\n",
       "      <th>Tier 3</th>\n",
       "    </tr>\n",
       "  </thead>\n",
       "  <tbody>\n",
       "    <tr>\n",
       "      <th>0</th>\n",
       "      <td>IIT Bombay</td>\n",
       "      <td>IIIT Bangalore</td>\n",
       "      <td>Ramaiah Institute of Technology, Bengaluru</td>\n",
       "    </tr>\n",
       "    <tr>\n",
       "      <th>1</th>\n",
       "      <td>IIT Delhi</td>\n",
       "      <td>IIIT Delhi</td>\n",
       "      <td>TIET/Thapar University</td>\n",
       "    </tr>\n",
       "    <tr>\n",
       "      <th>2</th>\n",
       "      <td>IIT Kharagpur</td>\n",
       "      <td>IGDTUW</td>\n",
       "      <td>Manipal Main Campus</td>\n",
       "    </tr>\n",
       "    <tr>\n",
       "      <th>3</th>\n",
       "      <td>IIT Madras</td>\n",
       "      <td>NIT Calicut</td>\n",
       "      <td>VIT Vellore</td>\n",
       "    </tr>\n",
       "    <tr>\n",
       "      <th>4</th>\n",
       "      <td>IIT Kanpur</td>\n",
       "      <td>IIITM Gwalior</td>\n",
       "      <td>SRM Main Campus</td>\n",
       "    </tr>\n",
       "  </tbody>\n",
       "</table>\n",
       "</div>"
      ],
      "text/plain": [
       "          Tier 1          Tier 2                                      Tier 3\n",
       "0     IIT Bombay  IIIT Bangalore  Ramaiah Institute of Technology, Bengaluru\n",
       "1      IIT Delhi      IIIT Delhi                      TIET/Thapar University\n",
       "2  IIT Kharagpur          IGDTUW                         Manipal Main Campus\n",
       "3     IIT Madras     NIT Calicut                                 VIT Vellore\n",
       "4     IIT Kanpur   IIITM Gwalior                             SRM Main Campus"
      ]
     },
     "execution_count": 54,
     "metadata": {},
     "output_type": "execute_result"
    }
   ],
   "source": [
    "# TO SHOW TOP 5 DATA ROWS OF DATASET\n",
    "college_data.head()\n"
   ]
  },
  {
   "cell_type": "code",
   "execution_count": 55,
   "id": "88576d56",
   "metadata": {},
   "outputs": [
    {
     "name": "stdout",
     "output_type": "stream",
     "text": [
      "<class 'pandas.core.frame.DataFrame'>\n",
      "RangeIndex: 28 entries, 0 to 27\n",
      "Data columns (total 3 columns):\n",
      " #   Column  Non-Null Count  Dtype \n",
      "---  ------  --------------  ----- \n",
      " 0   Tier 1  22 non-null     object\n",
      " 1   Tier 2  28 non-null     object\n",
      " 2   Tier 3  19 non-null     object\n",
      "dtypes: object(3)\n",
      "memory usage: 800.0+ bytes\n"
     ]
    },
    {
     "data": {
      "text/plain": [
       "(28, 3)"
      ]
     },
     "execution_count": 55,
     "metadata": {},
     "output_type": "execute_result"
    }
   ],
   "source": [
    "# Get Information About the DataFrame:\n",
    "# Get the Shape of the DataFrame:\n",
    "college_data.info()\n",
    "college_data.shape"
   ]
  },
  {
   "cell_type": "code",
   "execution_count": 56,
   "id": "92ecd947",
   "metadata": {},
   "outputs": [
    {
     "data": {
      "text/html": [
       "<div>\n",
       "<style scoped>\n",
       "    .dataframe tbody tr th:only-of-type {\n",
       "        vertical-align: middle;\n",
       "    }\n",
       "\n",
       "    .dataframe tbody tr th {\n",
       "        vertical-align: top;\n",
       "    }\n",
       "\n",
       "    .dataframe thead th {\n",
       "        text-align: right;\n",
       "    }\n",
       "</style>\n",
       "<table border=\"1\" class=\"dataframe\">\n",
       "  <thead>\n",
       "    <tr style=\"text-align: right;\">\n",
       "      <th></th>\n",
       "      <th>Metrio City</th>\n",
       "      <th>non-metro cities</th>\n",
       "    </tr>\n",
       "  </thead>\n",
       "  <tbody>\n",
       "    <tr>\n",
       "      <th>0</th>\n",
       "      <td>Mumbai</td>\n",
       "      <td>Dehradun</td>\n",
       "    </tr>\n",
       "    <tr>\n",
       "      <th>1</th>\n",
       "      <td>Delhi</td>\n",
       "      <td>Durgapur</td>\n",
       "    </tr>\n",
       "    <tr>\n",
       "      <th>2</th>\n",
       "      <td>Kolkata</td>\n",
       "      <td>Asansol</td>\n",
       "    </tr>\n",
       "    <tr>\n",
       "      <th>3</th>\n",
       "      <td>Chennai</td>\n",
       "      <td>Rourkela</td>\n",
       "    </tr>\n",
       "    <tr>\n",
       "      <th>4</th>\n",
       "      <td>Bangalore</td>\n",
       "      <td>Kozhikode</td>\n",
       "    </tr>\n",
       "  </tbody>\n",
       "</table>\n",
       "</div>"
      ],
      "text/plain": [
       "  Metrio City non-metro cities\n",
       "0      Mumbai         Dehradun\n",
       "1       Delhi         Durgapur\n",
       "2     Kolkata          Asansol\n",
       "3     Chennai         Rourkela\n",
       "4   Bangalore        Kozhikode"
      ]
     },
     "execution_count": 56,
     "metadata": {},
     "output_type": "execute_result"
    }
   ],
   "source": [
    "# TO SHOW TOP 5 DATA ROWS OF DATASET\n",
    "cities_data.head()"
   ]
  },
  {
   "cell_type": "code",
   "execution_count": 57,
   "id": "a613085d",
   "metadata": {},
   "outputs": [
    {
     "name": "stdout",
     "output_type": "stream",
     "text": [
      "<class 'pandas.core.frame.DataFrame'>\n",
      "RangeIndex: 9 entries, 0 to 8\n",
      "Data columns (total 2 columns):\n",
      " #   Column            Non-Null Count  Dtype \n",
      "---  ------            --------------  ----- \n",
      " 0   Metrio City       9 non-null      object\n",
      " 1   non-metro cities  8 non-null      object\n",
      "dtypes: object(2)\n",
      "memory usage: 272.0+ bytes\n"
     ]
    },
    {
     "data": {
      "text/plain": [
       "(9, 2)"
      ]
     },
     "execution_count": 57,
     "metadata": {},
     "output_type": "execute_result"
    }
   ],
   "source": [
    "# Get Information About the DataFrame:\n",
    "# Get the Shape of the DataFrame:\n",
    "cities_data.info()\n",
    "cities_data.shape"
   ]
  },
  {
   "cell_type": "code",
   "execution_count": 58,
   "id": "e95d6dd3",
   "metadata": {},
   "outputs": [
    {
     "data": {
      "text/html": [
       "<div>\n",
       "<style scoped>\n",
       "    .dataframe tbody tr th:only-of-type {\n",
       "        vertical-align: middle;\n",
       "    }\n",
       "\n",
       "    .dataframe tbody tr th {\n",
       "        vertical-align: top;\n",
       "    }\n",
       "\n",
       "    .dataframe thead th {\n",
       "        text-align: right;\n",
       "    }\n",
       "</style>\n",
       "<table border=\"1\" class=\"dataframe\">\n",
       "  <thead>\n",
       "    <tr style=\"text-align: right;\">\n",
       "      <th></th>\n",
       "      <th>College</th>\n",
       "      <th>City</th>\n",
       "      <th>Role</th>\n",
       "      <th>Previous CTC</th>\n",
       "      <th>Previous job change</th>\n",
       "      <th>Graduation Marks</th>\n",
       "      <th>EXP (Month)</th>\n",
       "      <th>CTC</th>\n",
       "    </tr>\n",
       "  </thead>\n",
       "  <tbody>\n",
       "    <tr>\n",
       "      <th>0</th>\n",
       "      <td>SVNIT Surat</td>\n",
       "      <td>Asansol</td>\n",
       "      <td>Manager</td>\n",
       "      <td>55523</td>\n",
       "      <td>3</td>\n",
       "      <td>66</td>\n",
       "      <td>19</td>\n",
       "      <td>71406.58</td>\n",
       "    </tr>\n",
       "    <tr>\n",
       "      <th>1</th>\n",
       "      <td>NIT Bhopal</td>\n",
       "      <td>Ajmer</td>\n",
       "      <td>Executive</td>\n",
       "      <td>57081</td>\n",
       "      <td>1</td>\n",
       "      <td>84</td>\n",
       "      <td>18</td>\n",
       "      <td>68005.87</td>\n",
       "    </tr>\n",
       "    <tr>\n",
       "      <th>2</th>\n",
       "      <td>IEM, Kolkata</td>\n",
       "      <td>Rajpur Sonarpur</td>\n",
       "      <td>Executive</td>\n",
       "      <td>60347</td>\n",
       "      <td>2</td>\n",
       "      <td>52</td>\n",
       "      <td>28</td>\n",
       "      <td>76764.02</td>\n",
       "    </tr>\n",
       "    <tr>\n",
       "      <th>3</th>\n",
       "      <td>KIIT, Bhubaneswar</td>\n",
       "      <td>Ajmer</td>\n",
       "      <td>Executive</td>\n",
       "      <td>49010</td>\n",
       "      <td>2</td>\n",
       "      <td>81</td>\n",
       "      <td>33</td>\n",
       "      <td>82092.39</td>\n",
       "    </tr>\n",
       "    <tr>\n",
       "      <th>4</th>\n",
       "      <td>DTU</td>\n",
       "      <td>Durgapur</td>\n",
       "      <td>Executive</td>\n",
       "      <td>57879</td>\n",
       "      <td>4</td>\n",
       "      <td>74</td>\n",
       "      <td>32</td>\n",
       "      <td>73878.10</td>\n",
       "    </tr>\n",
       "  </tbody>\n",
       "</table>\n",
       "</div>"
      ],
      "text/plain": [
       "             College             City       Role  Previous CTC  \\\n",
       "0        SVNIT Surat          Asansol    Manager         55523   \n",
       "1         NIT Bhopal            Ajmer  Executive         57081   \n",
       "2       IEM, Kolkata  Rajpur Sonarpur  Executive         60347   \n",
       "3  KIIT, Bhubaneswar            Ajmer  Executive         49010   \n",
       "4                DTU         Durgapur  Executive         57879   \n",
       "\n",
       "   Previous job change  Graduation Marks  EXP (Month)       CTC  \n",
       "0                    3                66           19  71406.58  \n",
       "1                    1                84           18  68005.87  \n",
       "2                    2                52           28  76764.02  \n",
       "3                    2                81           33  82092.39  \n",
       "4                    4                74           32  73878.10  "
      ]
     },
     "execution_count": 58,
     "metadata": {},
     "output_type": "execute_result"
    }
   ],
   "source": [
    "# TO SHOW TOP 5 DATA ROWS OF DATASET\n",
    "employee_data.head()"
   ]
  },
  {
   "cell_type": "code",
   "execution_count": 59,
   "id": "b96ce8be",
   "metadata": {},
   "outputs": [
    {
     "name": "stdout",
     "output_type": "stream",
     "text": [
      "<class 'pandas.core.frame.DataFrame'>\n",
      "RangeIndex: 1589 entries, 0 to 1588\n",
      "Data columns (total 8 columns):\n",
      " #   Column               Non-Null Count  Dtype  \n",
      "---  ------               --------------  -----  \n",
      " 0   College              1589 non-null   object \n",
      " 1   City                 1589 non-null   object \n",
      " 2   Role                 1589 non-null   object \n",
      " 3   Previous CTC         1589 non-null   int64  \n",
      " 4   Previous job change  1589 non-null   int64  \n",
      " 5   Graduation Marks     1589 non-null   int64  \n",
      " 6   EXP (Month)          1589 non-null   int64  \n",
      " 7   CTC                  1589 non-null   float64\n",
      "dtypes: float64(1), int64(4), object(3)\n",
      "memory usage: 99.4+ KB\n"
     ]
    },
    {
     "data": {
      "text/plain": [
       "(1589, 8)"
      ]
     },
     "execution_count": 59,
     "metadata": {},
     "output_type": "execute_result"
    }
   ],
   "source": [
    "# Get Information About the DataFrame:\n",
    "# Get the Shape of the DataFrame:\n",
    "employee_data.info()\n",
    "employee_data.shape"
   ]
  },
  {
   "cell_type": "code",
   "execution_count": 60,
   "id": "cd8dd4d9",
   "metadata": {},
   "outputs": [
    {
     "name": "stderr",
     "output_type": "stream",
     "text": [
      "C:\\Users\\priya\\anaconda3\\lib\\site-packages\\seaborn\\_decorators.py:36: FutureWarning: Pass the following variable as a keyword arg: x. From version 0.12, the only valid positional argument will be `data`, and passing other arguments without an explicit keyword will result in an error or misinterpretation.\n",
      "  warnings.warn(\n"
     ]
    },
    {
     "data": {
      "image/png": "[encoded data removed]",
      "text/plain": [
       "<Figure size 432x288 with 1 Axes>"
      ]
     },
     "metadata": {
      "needs_background": "light"
     },
     "output_type": "display_data"
    }
   ],
   "source": [
    "# Creates a boxplot of the Previous CTC column from the employee_data DataFrame.\n",
    "# plt.show(): Displays the plot\n",
    "sns.boxplot(employee_data['Previous CTC'])\n",
    "plt.show()"
   ]
  },
  {
   "cell_type": "code",
   "execution_count": 61,
   "id": "69899b57",
   "metadata": {},
   "outputs": [
    {
     "name": "stderr",
     "output_type": "stream",
     "text": [
      "C:\\Users\\priya\\anaconda3\\lib\\site-packages\\seaborn\\_decorators.py:36: FutureWarning: Pass the following variable as a keyword arg: x. From version 0.12, the only valid positional argument will be `data`, and passing other arguments without an explicit keyword will result in an error or misinterpretation.\n",
      "  warnings.warn(\n"
     ]
    },
    {
     "data": {
      "image/png": "[encoded data removed]",
      "text/plain": [
       "<Figure size 432x288 with 1 Axes>"
      ]
     },
     "metadata": {
      "needs_background": "light"
     },
     "output_type": "display_data"
    }
   ],
   "source": [
    "# Creates a boxplot of the Graduation Marks column from the employee_data DataFrame.\n",
    "# plt.show(): Displays the plot\n",
    "sns.boxplot(employee_data['Graduation Marks'])\n",
    "plt.show()"
   ]
  },
  {
   "cell_type": "code",
   "execution_count": 62,
   "id": "41b5b8f9",
   "metadata": {},
   "outputs": [
    {
     "name": "stderr",
     "output_type": "stream",
     "text": [
      "C:\\Users\\priya\\anaconda3\\lib\\site-packages\\seaborn\\_decorators.py:36: FutureWarning: Pass the following variable as a keyword arg: x. From version 0.12, the only valid positional argument will be `data`, and passing other arguments without an explicit keyword will result in an error or misinterpretation.\n",
      "  warnings.warn(\n"
     ]
    },
    {
     "data": {
      "image/png": "[encoded data removed]",
      "text/plain": [
       "<Figure size 432x288 with 1 Axes>"
      ]
     },
     "metadata": {
      "needs_background": "light"
     },
     "output_type": "display_data"
    }
   ],
   "source": [
    "# Creates a boxplot of the Previous job change column from the employee_data DataFrame.\n",
    "# plt.show(): Displays the plot\n",
    "sns.boxplot(employee_data['Previous job change'])\n",
    "plt.show()"
   ]
  },
  {
   "cell_type": "code",
   "execution_count": 63,
   "id": "0605341b",
   "metadata": {},
   "outputs": [
    {
     "name": "stderr",
     "output_type": "stream",
     "text": [
      "C:\\Users\\priya\\anaconda3\\lib\\site-packages\\seaborn\\_decorators.py:36: FutureWarning: Pass the following variable as a keyword arg: x. From version 0.12, the only valid positional argument will be `data`, and passing other arguments without an explicit keyword will result in an error or misinterpretation.\n",
      "  warnings.warn(\n"
     ]
    },
    {
     "data": {
      "image/png": "[encoded data removed]",
      "text/plain": [
       "<Figure size 432x288 with 1 Axes>"
      ]
     },
     "metadata": {
      "needs_background": "light"
     },
     "output_type": "display_data"
    }
   ],
   "source": [
    "# Creates a boxplot of the Graduation Marks column from the employee_data DataFrame.\n",
    "# plt.show(): Displays the plot\n",
    "sns.boxplot(employee_data['Graduation Marks'])\n",
    "plt.show()"
   ]
  },
  {
   "cell_type": "code",
   "execution_count": 64,
   "id": "7e6fd234",
   "metadata": {},
   "outputs": [],
   "source": [
    "# Checking outliers at 25 % and 75 % ie 1st quartile and 3rd quatile\n",
    "Q1 = employee_data.quantile(0.25)\n",
    "Q3 = employee_data.quantile(0.75)"
   ]
  },
  {
   "cell_type": "code",
   "execution_count": 65,
   "id": "575d48f7",
   "metadata": {},
   "outputs": [
    {
     "name": "stderr",
     "output_type": "stream",
     "text": [
      "C:\\Users\\priya\\AppData\\Local\\Temp\\ipykernel_5116\\416251470.py:6: FutureWarning: Automatic reindexing on DataFrame vs Series comparisons is deprecated and will raise ValueError in a future version. Do `left, right = left.align(right, axis=1, copy=False)` before e.g. `left == right`\n",
      "  employee_data = employee_data[~((employee_data < (Q1 - 1.5 * IQR)) | (employee_data > (Q3 + 1.5 * IQR))).any(axis=1)]\n"
     ]
    }
   ],
   "source": [
    "# IQR is the range between the 1st quartile (Q1) and the 3rd quartile (Q3) of the data.\n",
    "# employee_data < (Q1 - 1.5 * IQR)  This part checks which values are below the lower bound (Q1 - 1.5 * IQR). Potential outliers at lower end\n",
    "#employee_data > (Q3 + 1.5 * IQR): This part checks which values are above the upper bound (Q3 + 1.5 * IQR). Potential outliers at upper bound\n",
    "# employee_data[...]: Filters the DataFrame to keep only the rows that do not contain outliers.\n",
    "IQR = Q3 - Q1\n",
    "employee_data = employee_data[~((employee_data < (Q1 - 1.5 * IQR)) | (employee_data > (Q3 + 1.5 * IQR))).any(axis=1)]\n"
   ]
  },
  {
   "cell_type": "code",
   "execution_count": 66,
   "id": "16bdc2e9",
   "metadata": {},
   "outputs": [],
   "source": [
    "# Reshape the data to have two columns: 'Tier' and 'College'\n",
    "college_melted = college_data.melt(var_name='Tier', value_name='College Name').dropna()\n",
    "\n",
    "# Map the 'Tier' column to numerical values\n",
    "tier_mapping = {'Tier 1': 1, 'Tier 2': 2, 'Tier 3': 3}\n",
    "college_melted['Tier'] = college_melted['Tier'].map(tier_mapping)\n",
    "college_melted = college_melted[['College Name', 'Tier']]\n"
   ]
  },
  {
   "cell_type": "code",
   "execution_count": 67,
   "id": "e6b09026",
   "metadata": {},
   "outputs": [],
   "source": [
    "city_mapping = {'Metrio City': 1, 'non-metro cities': 0}\n",
    "\n",
    "# Flatten the DataFrame and create mappings for city names\n",
    "cities_flat = pd.melt(cities_data.reset_index(), id_vars=['index'], value_vars=cities_data.columns, var_name='City_Type', value_name='City_Name')\n",
    "cities_flat['City_Type'] = cities_flat['City_Type'].map(city_mapping)\n",
    "\n",
    "# Drop rows where City_Name is NaN and reset index\n",
    "cities_flat = cities_flat.dropna(subset=['City_Name']).reset_index(drop=True)\n",
    "\n",
    "# Reorder columns\n",
    "cities_flat = cities_flat[['City_Name', 'City_Type']]\n",
    "\n",
    "# Display the final DataFrame\n"
   ]
  },
  {
   "cell_type": "code",
   "execution_count": 68,
   "id": "8d68b4bf",
   "metadata": {},
   "outputs": [],
   "source": [
    "# Creating dummy variables for the role column in employee datasheet.\n",
    "employee_data = pd.get_dummies(employee_data, columns=['Role'], drop_first=True)"
   ]
  },
  {
   "cell_type": "code",
   "execution_count": 69,
   "id": "c8dc4864",
   "metadata": {},
   "outputs": [
    {
     "name": "stdout",
     "output_type": "stream",
     "text": [
      "Encoded College Data:\n",
      "     College Name  Tier\n",
      "0     IIT Bombay     1\n",
      "1      IIT Delhi     1\n",
      "2  IIT Kharagpur     1\n",
      "3     IIT Madras     1\n",
      "4     IIT Kanpur     1\n",
      "Encoded Cities Data:\n",
      "    City_Name  City_Type\n",
      "0     Mumbai          1\n",
      "1      Delhi          1\n",
      "2    Kolkata          1\n",
      "3    Chennai          1\n",
      "4  Bangalore          1\n",
      "Encoded Employee Data:\n",
      "              College             City  Previous CTC  Previous job change  \\\n",
      "0        SVNIT Surat          Asansol         55523                    3   \n",
      "1         NIT Bhopal            Ajmer         57081                    1   \n",
      "2       IEM, Kolkata  Rajpur Sonarpur         60347                    2   \n",
      "3  KIIT, Bhubaneswar            Ajmer         49010                    2   \n",
      "4                DTU         Durgapur         57879                    4   \n",
      "\n",
      "   Graduation Marks  EXP (Month)       CTC  Role_Manager  \n",
      "0                66           19  71406.58             1  \n",
      "1                84           18  68005.87             0  \n",
      "2                52           28  76764.02             0  \n",
      "3                81           33  82092.39             0  \n",
      "4                74           32  73878.10             0  \n"
     ]
    }
   ],
   "source": [
    "# Here printed each of the changes \n",
    "print(\"Encoded College Data:\\n\", college_melted.head())\n",
    "print(\"Encoded Cities Data:\\n\", cities_flat.head())\n",
    "print(\"Encoded Employee Data:\\n\", employee_data.head())"
   ]
  },
  {
   "cell_type": "code",
   "execution_count": 70,
   "id": "7e072581",
   "metadata": {},
   "outputs": [],
   "source": [
    "# college_mapping will be a dictionary where each college name is a key, and its corresponding tier is the value.\n",
    "#  The 'College' column in employee_data will be updated to show the tier corresponding to each college.\n",
    "college_mapping = college_melted.set_index('College Name')['Tier'].to_dict()\n",
    "employee_data['College'] = employee_data['College'].map(college_mapping)\n"
   ]
  },
  {
   "cell_type": "code",
   "execution_count": 71,
   "id": "94567d81",
   "metadata": {},
   "outputs": [],
   "source": [
    "# Same for the city names and city type\n",
    "city_mapping = cities_flat.set_index('City_Name')['City_Type'].to_dict()\n",
    "employee_data['City'] = employee_data['City'].map(city_mapping)"
   ]
  },
  {
   "cell_type": "code",
   "execution_count": 72,
   "id": "a7f26e78",
   "metadata": {},
   "outputs": [
    {
     "name": "stdout",
     "output_type": "stream",
     "text": [
      "      College  City  Previous CTC  Previous job change  Graduation Marks  \\\n",
      "0           2     0         55523                    3                66   \n",
      "1           2     0         57081                    1                84   \n",
      "2           3     0         60347                    2                52   \n",
      "3           3     0         49010                    2                81   \n",
      "4           1     0         57879                    4                74   \n",
      "...       ...   ...           ...                  ...               ...   \n",
      "1584        1     1         61285                    3                44   \n",
      "1585        1     0         63140                    1                44   \n",
      "1586        1     1         44907                    1                60   \n",
      "1587        1     0         52054                    2                67   \n",
      "1588        2     1         44353                    3                75   \n",
      "\n",
      "      EXP (Month)       CTC  Role_Manager  \n",
      "0              19  71406.58             1  \n",
      "1              18  68005.87             0  \n",
      "2              28  76764.02             0  \n",
      "3              33  82092.39             0  \n",
      "4              32  73878.10             0  \n",
      "...           ...       ...           ...  \n",
      "1584           60  77283.59             0  \n",
      "1585           24  68416.86             0  \n",
      "1586           19  70186.19             0  \n",
      "1587           29  73394.09             0  \n",
      "1588           18  70056.31             1  \n",
      "\n",
      "[1491 rows x 8 columns]\n"
     ]
    }
   ],
   "source": [
    "print(employee_data)"
   ]
  },
  {
   "cell_type": "code",
   "execution_count": 73,
   "id": "d5b185ba",
   "metadata": {},
   "outputs": [
    {
     "name": "stdout",
     "output_type": "stream",
     "text": [
      "Missing values:\n",
      " College                0\n",
      "City                   0\n",
      "Previous CTC           0\n",
      "Previous job change    0\n",
      "Graduation Marks       0\n",
      "EXP (Month)            0\n",
      "CTC                    0\n",
      "Role_Manager           0\n",
      "dtype: int64\n"
     ]
    }
   ],
   "source": [
    "print(\"Missing values:\\n\", employee_data.isnull().sum())"
   ]
  },
  {
   "cell_type": "code",
   "execution_count": 74,
   "id": "3b450fd3",
   "metadata": {},
   "outputs": [],
   "source": [
    "numeric_columns = ['Previous CTC', 'Graduation Marks', 'EXP (Month)', 'CTC']\n",
    "Q1 = employee_data[numeric_columns].quantile(0.25)\n",
    "Q3 = employee_data[numeric_columns].quantile(0.75)\n",
    "IQR = Q3 - Q1"
   ]
  },
  {
   "cell_type": "code",
   "execution_count": 75,
   "id": "4825ab4d",
   "metadata": {},
   "outputs": [],
   "source": [
    "employee_data = employee_data[~((employee_data[numeric_columns] < (Q1 - 1.5 * IQR)) | (employee_data[numeric_columns] > (Q3 + 1.5 * IQR))).any(axis=1)]\n"
   ]
  },
  {
   "cell_type": "code",
   "execution_count": 76,
   "id": "576101a6",
   "metadata": {},
   "outputs": [
    {
     "name": "stdout",
     "output_type": "stream",
     "text": [
      "Cleaned and Encoded Data:\n",
      "    College  City  Previous CTC  Previous job change  Graduation Marks  \\\n",
      "0        2     0         55523                    3                66   \n",
      "1        2     0         57081                    1                84   \n",
      "2        3     0         60347                    2                52   \n",
      "3        3     0         49010                    2                81   \n",
      "4        1     0         57879                    4                74   \n",
      "\n",
      "   EXP (Month)       CTC  Role_Manager  \n",
      "0           19  71406.58             1  \n",
      "1           18  68005.87             0  \n",
      "2           28  76764.02             0  \n",
      "3           33  82092.39             0  \n",
      "4           32  73878.10             0  \n"
     ]
    }
   ],
   "source": [
    "print(\"Cleaned and Encoded Data:\\n\", employee_data.head())"
   ]
  },
  {
   "cell_type": "code",
   "execution_count": 77,
   "id": "816bf696",
   "metadata": {},
   "outputs": [],
   "source": [
    "from sklearn.preprocessing import StandardScaler\n",
    "\n",
    "# Initialize the scaler\n",
    "scaler = StandardScaler()\n",
    "\n",
    "# Apply scaling to numerical columns\n",
    "numerical_features = ['Previous CTC', 'Previous job change', 'Graduation Marks', 'EXP (Month)', 'CTC']\n",
    "employee_data[numerical_features] = scaler.fit_transform(employee_data[numerical_features])\n"
   ]
  },
  {
   "cell_type": "code",
   "execution_count": 78,
   "id": "3251b8fd",
   "metadata": {},
   "outputs": [
    {
     "name": "stderr",
     "output_type": "stream",
     "text": [
      "C:\\Users\\priya\\anaconda3\\lib\\site-packages\\seaborn\\_decorators.py:36: FutureWarning: Pass the following variable as a keyword arg: x. From version 0.12, the only valid positional argument will be `data`, and passing other arguments without an explicit keyword will result in an error or misinterpretation.\n",
      "  warnings.warn(\n"
     ]
    },
    {
     "data": {
      "image/png": "[encoded data removed]",
      "text/plain": [
       "<Figure size 432x288 with 1 Axes>"
      ]
     },
     "metadata": {
      "needs_background": "light"
     },
     "output_type": "display_data"
    }
   ],
   "source": [
    "# checking again for outlier in the data set \n",
    "sns.boxplot(employee_data['Previous CTC'])\n",
    "plt.show()"
   ]
  },
  {
   "cell_type": "code",
   "execution_count": 79,
   "id": "2cf1045b",
   "metadata": {},
   "outputs": [
    {
     "name": "stderr",
     "output_type": "stream",
     "text": [
      "C:\\Users\\priya\\anaconda3\\lib\\site-packages\\seaborn\\_decorators.py:36: FutureWarning: Pass the following variable as a keyword arg: x. From version 0.12, the only valid positional argument will be `data`, and passing other arguments without an explicit keyword will result in an error or misinterpretation.\n",
      "  warnings.warn(\n"
     ]
    },
    {
     "data": {
      "image/png": "[encoded data removed]",
      "text/plain": [
       "<Figure size 432x288 with 1 Axes>"
      ]
     },
     "metadata": {
      "needs_background": "light"
     },
     "output_type": "display_data"
    }
   ],
   "source": [
    "# checking again for outlier in the data set \n",
    "sns.boxplot(employee_data['Graduation Marks'])\n",
    "plt.show()"
   ]
  },
  {
   "cell_type": "code",
   "execution_count": 80,
   "id": "8edc9b20",
   "metadata": {},
   "outputs": [
    {
     "name": "stderr",
     "output_type": "stream",
     "text": [
      "C:\\Users\\priya\\anaconda3\\lib\\site-packages\\seaborn\\_decorators.py:36: FutureWarning: Pass the following variable as a keyword arg: x. From version 0.12, the only valid positional argument will be `data`, and passing other arguments without an explicit keyword will result in an error or misinterpretation.\n",
      "  warnings.warn(\n"
     ]
    },
    {
     "data": {
      "image/png": "[encoded data removed]",
      "text/plain": [
       "<Figure size 432x288 with 1 Axes>"
      ]
     },
     "metadata": {
      "needs_background": "light"
     },
     "output_type": "display_data"
    }
   ],
   "source": [
    "# checking again for outlier in the data set \n",
    "sns.boxplot(employee_data['Previous job change'])\n",
    "plt.show()"
   ]
  },
  {
   "cell_type": "code",
   "execution_count": 81,
   "id": "3d1071a7",
   "metadata": {},
   "outputs": [
    {
     "name": "stderr",
     "output_type": "stream",
     "text": [
      "C:\\Users\\priya\\anaconda3\\lib\\site-packages\\seaborn\\_decorators.py:36: FutureWarning: Pass the following variable as a keyword arg: x. From version 0.12, the only valid positional argument will be `data`, and passing other arguments without an explicit keyword will result in an error or misinterpretation.\n",
      "  warnings.warn(\n"
     ]
    },
    {
     "data": {
      "image/png": "[encoded data removed]",
      "text/plain": [
       "<Figure size 432x288 with 1 Axes>"
      ]
     },
     "metadata": {
      "needs_background": "light"
     },
     "output_type": "display_data"
    }
   ],
   "source": [
    "# checking again for outlier in the data set \n",
    "sns.boxplot(employee_data['Graduation Marks'])\n",
    "plt.show()"
   ]
  },
  {
   "cell_type": "code",
   "execution_count": 82,
   "id": "545fbb49",
   "metadata": {},
   "outputs": [
    {
     "data": {
      "image/png": "[encoded data removed]",
      "text/plain": [
       "<Figure size 576x432 with 2 Axes>"
      ]
     },
     "metadata": {
      "needs_background": "light"
     },
     "output_type": "display_data"
    }
   ],
   "source": [
    "corr_matrix = employee_data.corr()\n",
    "\n",
    "# Extracting  the correlations involving 'CTC'\n",
    "ctc_corr = corr_matrix[['CTC']].sort_values(by='CTC', ascending=False)\n",
    "\n",
    "# Plot the heatmap for CTC correlations\n",
    "plt.figure(figsize=(8, 6))\n",
    "sns.heatmap(ctc_corr, annot=True, cmap='coolwarm', vmin=-1, vmax=1)\n",
    "plt.title('Correlation of CTC with Independent Variables')\n",
    "plt.show()"
   ]
  },
  {
   "cell_type": "markdown",
   "id": "79fe8928",
   "metadata": {},
   "source": [
    "# TEST TRAIN SPLIT\n"
   ]
  },
  {
   "cell_type": "code",
   "execution_count": 83,
   "id": "4ae666a3",
   "metadata": {},
   "outputs": [],
   "source": [
    "from sklearn.model_selection import train_test_split\n",
    "X = employee_data.drop('CTC', axis=1)  # (all columns except CTC)\n",
    "y = employee_data['CTC']  # Dependent variable\n",
    "X_train, X_test, y_train, y_test = train_test_split(X, y, test_size=0.2, random_state=42)\n"
   ]
  },
  {
   "cell_type": "code",
   "execution_count": 84,
   "id": "4a60fc09",
   "metadata": {},
   "outputs": [
    {
     "name": "stdout",
     "output_type": "stream",
     "text": [
      "Training Data Shape (X_train): (1163, 7)\n",
      "Training Labels Shape (y_train): (1163,)\n",
      "Testing Data Shape (X_test): (291, 7)\n",
      "Testing Labels Shape (y_test): (291,)\n"
     ]
    }
   ],
   "source": [
    "print(\"Training Data Shape (X_train):\", X_train.shape)\n",
    "print(\"Training Labels Shape (y_train):\", y_train.shape)\n",
    "print(\"Testing Data Shape (X_test):\", X_test.shape)\n",
    "print(\"Testing Labels Shape (y_test):\", y_test.shape)"
   ]
  },
  {
   "cell_type": "code",
   "execution_count": 85,
   "id": "7f689cfa",
   "metadata": {},
   "outputs": [],
   "source": [
    "# Importing all the models and Performance metrics to rank models\n",
    "from sklearn.linear_model import LinearRegression\n",
    "from sklearn.tree import DecisionTreeRegressor\n",
    "from sklearn.ensemble import RandomForestRegressor\n",
    "from sklearn.metrics import mean_absolute_error, mean_squared_error, r2_score"
   ]
  },
  {
   "cell_type": "code",
   "execution_count": 86,
   "id": "88f844fb",
   "metadata": {},
   "outputs": [],
   "source": [
    "# created 3 different objects/ variables for the Regression Models\n",
    "linear_reg = LinearRegression()\n",
    "tree_reg = DecisionTreeRegressor(random_state=42)\n",
    "forest_reg = RandomForestRegressor(random_state=42)\n"
   ]
  },
  {
   "cell_type": "code",
   "execution_count": 87,
   "id": "050ec754",
   "metadata": {},
   "outputs": [
    {
     "data": {
      "text/plain": [
       "RandomForestRegressor(random_state=42)"
      ]
     },
     "execution_count": 87,
     "metadata": {},
     "output_type": "execute_result"
    }
   ],
   "source": [
    "# Training the 3 models\n",
    "linear_reg.fit(X_train, y_train)\n",
    "tree_reg.fit(X_train, y_train)\n",
    "forest_reg.fit(X_train, y_train)"
   ]
  },
  {
   "cell_type": "code",
   "execution_count": 88,
   "id": "cd898f57",
   "metadata": {},
   "outputs": [],
   "source": [
    "# Predict on the test set for all 3 models\n",
    "y_pred_linear = linear_reg.predict(X_test)\n",
    "y_pred_tree = tree_reg.predict(X_test)\n",
    "y_pred_forest = forest_reg.predict(X_test)"
   ]
  },
  {
   "cell_type": "code",
   "execution_count": 89,
   "id": "f72dcf2b",
   "metadata": {},
   "outputs": [],
   "source": [
    "# created function for better understanding of code\n",
    "def evaluate_model(y_test, y_pred):\n",
    "    mae = mean_absolute_error(y_test, y_pred)\n",
    "    mse = mean_squared_error(y_test, y_pred)\n",
    "    r2 = r2_score(y_test, y_pred)\n",
    "    return mae, mse, r2"
   ]
  },
  {
   "cell_type": "code",
   "execution_count": 90,
   "id": "696c48d1",
   "metadata": {},
   "outputs": [
    {
     "name": "stdout",
     "output_type": "stream",
     "text": [
      "Linear Regression - MAE: 0.630130391194915 MSE: 0.6379740582409167 R²: 0.32159070823707503\n",
      "Decision Tree Regression - MAE: 0.7564966443869491 MSE: 1.0774539737564703 R²: -0.14574374584874938\n",
      "Random Forest Regression - MAE: 0.6031422664474603 MSE: 0.5992965361001401 R²: 0.3627196382675819\n"
     ]
    }
   ],
   "source": [
    "\n",
    "# Linear Regression evaluation\n",
    "linear_mae, linear_mse, linear_r2 = evaluate_model(y_test, y_pred_linear)\n",
    "print(\"Linear Regression - MAE:\", linear_mae, \"MSE:\", linear_mse, \"R²:\", linear_r2)\n",
    "\n",
    "# Decision Tree Regression evaluation\n",
    "tree_mae, tree_mse, tree_r2 = evaluate_model(y_test, y_pred_tree)\n",
    "print(\"Decision Tree Regression - MAE:\", tree_mae, \"MSE:\", tree_mse, \"R²:\", tree_r2)\n",
    "\n",
    "# Random Forest Regression evaluation\n",
    "forest_mae, forest_mse, forest_r2 = evaluate_model(y_test, y_pred_forest)\n",
    "print(\"Random Forest Regression - MAE:\", forest_mae, \"MSE:\", forest_mse, \"R²:\", forest_r2)\n"
   ]
  },
  {
   "cell_type": "markdown",
   "id": "121be556",
   "metadata": {},
   "source": [
    "# 1 - Your views about the problem statement?\n"
   ]
  },
  {
   "cell_type": "markdown",
   "id": "aaf1403a",
   "metadata": {},
   "source": [
    "- In the problem statement we have to train our Regression Model on the given Employees data so that the model is able \n",
    "- to predict the CTC for newly joined employees easily  based on features like previous CTC, experience, city and education. What I notice significantly is that the given data to train our model in not big enough ."
   ]
  },
  {
   "cell_type": "markdown",
   "id": "75e5d0db",
   "metadata": {},
   "source": [
    "# 2 - What will be your approach to solving this task?"
   ]
  },
  {
   "cell_type": "markdown",
   "id": "51a96ced",
   "metadata": {},
   "source": [
    " #### 1 -  I started off by going through the three datasets handed over: employee, college, and cities. \n",
    "  #### 2 -   I prepared the data in which the features related to college and cities were put in\n",
    "  #### 3 -  numerical forms and mapped onto the employee dataset.\n",
    " #### 4 -  This merging process made sure that all the relevant features were in a proper format for analysis.\n",
    "  #### 5 -  Then, I checked for missing values and outliers in the dataset, removed them,\n",
    "   #### 6 -  and followed this by normalizing the data using a scaler function to get uniformity. \n",
    "   ####  7 - I divided it into training and test sets to facilitate model development and its evaluation."
   ]
  },
  {
   "cell_type": "markdown",
   "id": "bf603179",
   "metadata": {},
   "source": [
    "# 3 - What ML model options did you have available to perform this task?"
   ]
  },
  {
   "cell_type": "markdown",
   "id": "46035c9c",
   "metadata": {},
   "source": [
    "### For Performing a Linear Regression Task I have so Many models but i choose 3 models and pick up the best from it\n",
    "#### These models are \n",
    "#### 1- Linear Regression\n",
    "#### 2 - Decision Tree Regressor \n",
    "#### 3 - Random Forest Regressor\n",
    "##### Note - There are also various models which are present for Regression"
   ]
  },
  {
   "cell_type": "markdown",
   "id": "89e4ceb4",
   "metadata": {},
   "source": [
    "# 4 - Which model’s performance is best and what could be the possible reason for that?"
   ]
  },
  {
   "cell_type": "markdown",
   "id": "e00d8702",
   "metadata": {},
   "source": [
    "- The performance of Random Forest regression model is best among the other two models (Linear Regression and Decision Tree )\n",
    "- as it yields the highest  R2 value for the model i.e - 0.3627196382675819 and also it have the least MAE AND MSE Values\n",
    "- which shows that it has less difference of errors between test and train data\n"
   ]
  },
  {
   "cell_type": "markdown",
   "id": "d73a9c7b",
   "metadata": {},
   "source": [
    "# 5. What steps can you take to improve this selected model’s performance even further?"
   ]
  },
  {
   "cell_type": "markdown",
   "id": "4ccc96ac",
   "metadata": {},
   "source": [
    "## Steps to Improve Model Performance\n",
    "\n",
    "### 1. Hyperparameter Tuning\n",
    "- I will perform hyperparameter tuning using GridSearchCV to optimize the parameters of the selected model (e.g.,Advanced Random Forest). This can help find the best combination of settings to improve accuracy and reduce error.\n",
    "\n",
    "### 2. Feature Engineering\n",
    "- I plan to explore additional feature engineering techniques, such as creating interaction terms and polynomial features, to capture more complex relationships between features and salary.\n",
    "\n",
    "### 3. Cross-Validation\n",
    "- Implementing K-Fold Cross-Validation will ensure the model's performance is robust and not just specific to a particular train-test split.\n",
    "\n",
    "### 4. Ensemble Methods\n",
    "- I could explore combining models through stacking or using more advanced ensemble methods like Gradient Boosting, which could potentially yield better performance.\n",
    "\n",
    "### 5. Model Regularization\n",
    "- Applying regularization techniques like Lasso or Ridge Regression may help in preventing overfitting and making the model more generalizable.\n",
    "\n",
    "### 6. Data Augmentation and Collection\n",
    "- Gathering more data or improving the quality of existing data can provide the model with more information to learn from, potentially leading to better predictions.\n",
    "\n",
    "### 7. Exploration\n",
    "- I can explore the Internet for the new techniques which are now using in the field of ML for preprocessing of data like - SOM-US is used to handle the class imbalance problem .\n"
   ]
  },
  {
   "cell_type": "code",
   "execution_count": null,
   "id": "2d656dad",
   "metadata": {},
   "outputs": [],
   "source": []
  }
 ],
 "metadata": {
  "kernelspec": {
   "display_name": "Python 3 (ipykernel)",
   "language": "python",
   "name": "python3"
  },
  "language_info": {
   "codemirror_mode": {
    "name": "ipython",
    "version": 3
   },
   "file_extension": ".py",
   "mimetype": "text/x-python",
   "name": "python",
   "nbconvert_exporter": "python",
   "pygments_lexer": "ipython3",
   "version": "3.9.12"
  }
 },
 "nbformat": 4,
 "nbformat_minor": 5
}
